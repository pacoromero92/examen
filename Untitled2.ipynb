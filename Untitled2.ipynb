{
 "cells": [
  {
   "cell_type": "code",
   "execution_count": 205,
   "metadata": {},
   "outputs": [],
   "source": [
    "import pandas as pd\n",
    "import matplotlib.pyplot as plt\n",
    "import seaborn as sb\n",
    "from sklearn.model_selection import train_test_split\n",
    "from sklearn.naive_bayes import GaussianNB\n",
    "from sklearn import linear_model\n",
    "from sklearn.metrics import mean_squared_error, r2_score\n",
    "import keras\n",
    "from keras.layers import Input,Dense,Activation"
   ]
  },
  {
   "cell_type": "code",
   "execution_count": 206,
   "metadata": {},
   "outputs": [
    {
     "data": {
      "text/html": [
       "<div>\n",
       "<style scoped>\n",
       "    .dataframe tbody tr th:only-of-type {\n",
       "        vertical-align: middle;\n",
       "    }\n",
       "\n",
       "    .dataframe tbody tr th {\n",
       "        vertical-align: top;\n",
       "    }\n",
       "\n",
       "    .dataframe thead th {\n",
       "        text-align: right;\n",
       "    }\n",
       "</style>\n",
       "<table border=\"1\" class=\"dataframe\">\n",
       "  <thead>\n",
       "    <tr style=\"text-align: right;\">\n",
       "      <th></th>\n",
       "      <th>educations</th>\n",
       "      <th>id</th>\n",
       "      <th>languages</th>\n",
       "      <th>region_id</th>\n",
       "      <th>skills</th>\n",
       "      <th>nivel_skill</th>\n",
       "      <th>Promedio</th>\n",
       "      <th>elegir</th>\n",
       "    </tr>\n",
       "  </thead>\n",
       "  <tbody>\n",
       "    <tr>\n",
       "      <th>0</th>\n",
       "      <td>Estudios Universitarios - TituladoCertificaciÃ...</td>\n",
       "      <td>12929</td>\n",
       "      <td>2</td>\n",
       "      <td>15</td>\n",
       "      <td>[{\"name\": \"AdministraciÃ³n de Proyectos\", \"lev...</td>\n",
       "      <td>2</td>\n",
       "      <td>55000</td>\n",
       "      <td>80</td>\n",
       "    </tr>\n",
       "    <tr>\n",
       "      <th>1</th>\n",
       "      <td>Estudios Universitarios - Pasante</td>\n",
       "      <td>93593</td>\n",
       "      <td>0</td>\n",
       "      <td>2</td>\n",
       "      <td>[{\"name\": \"C#/Net\", \"level\": \"Profesional\"}, {...</td>\n",
       "      <td>1</td>\n",
       "      <td>17500</td>\n",
       "      <td>0</td>\n",
       "    </tr>\n",
       "    <tr>\n",
       "      <th>2</th>\n",
       "      <td>Estudios Universitarios - Sin TerminarBachille...</td>\n",
       "      <td>22082</td>\n",
       "      <td>1</td>\n",
       "      <td>11</td>\n",
       "      <td>[{\"name\": \"Java\", \"level\": \"Aprendiz\"}, {\"name...</td>\n",
       "      <td>1</td>\n",
       "      <td>4000</td>\n",
       "      <td>10</td>\n",
       "    </tr>\n",
       "    <tr>\n",
       "      <th>3</th>\n",
       "      <td>Estudios Universitarios - TituladoDiplomado/Curso</td>\n",
       "      <td>113574</td>\n",
       "      <td>2</td>\n",
       "      <td>9</td>\n",
       "      <td>[{\"name\": \"DiseÃ±o de Software\", \"level\": \"Pro...</td>\n",
       "      <td>1</td>\n",
       "      <td>17500</td>\n",
       "      <td>50</td>\n",
       "    </tr>\n",
       "    <tr>\n",
       "      <th>4</th>\n",
       "      <td>Estudios Universitarios - Titulado</td>\n",
       "      <td>43632</td>\n",
       "      <td>1</td>\n",
       "      <td>9</td>\n",
       "      <td>[{\"name\": \"C++\", \"level\": \"Profesional\"}, {\"na...</td>\n",
       "      <td>2</td>\n",
       "      <td>7500</td>\n",
       "      <td>10</td>\n",
       "    </tr>\n",
       "  </tbody>\n",
       "</table>\n",
       "</div>"
      ],
      "text/plain": [
       "                                          educations      id  languages  \\\n",
       "0  Estudios Universitarios - TituladoCertificaciÃ...   12929          2   \n",
       "1                  Estudios Universitarios - Pasante   93593          0   \n",
       "2  Estudios Universitarios - Sin TerminarBachille...   22082          1   \n",
       "3  Estudios Universitarios - TituladoDiplomado/Curso  113574          2   \n",
       "4                 Estudios Universitarios - Titulado   43632          1   \n",
       "\n",
       "   region_id                                             skills  nivel_skill  \\\n",
       "0         15  [{\"name\": \"AdministraciÃ³n de Proyectos\", \"lev...            2   \n",
       "1          2  [{\"name\": \"C#/Net\", \"level\": \"Profesional\"}, {...            1   \n",
       "2         11  [{\"name\": \"Java\", \"level\": \"Aprendiz\"}, {\"name...            1   \n",
       "3          9  [{\"name\": \"DiseÃ±o de Software\", \"level\": \"Pro...            1   \n",
       "4          9  [{\"name\": \"C++\", \"level\": \"Profesional\"}, {\"na...            2   \n",
       "\n",
       "   Promedio  elegir  \n",
       "0     55000      80  \n",
       "1     17500       0  \n",
       "2      4000      10  \n",
       "3     17500      50  \n",
       "4      7500      10  "
      ]
     },
     "execution_count": 206,
     "metadata": {},
     "output_type": "execute_result"
    }
   ],
   "source": [
    "\n",
    "data=pd.read_excel('resultado.xlsx')\n",
    "data.head()"
   ]
  },
  {
   "cell_type": "code",
   "execution_count": 207,
   "metadata": {},
   "outputs": [
    {
     "name": "stdout",
     "output_type": "stream",
     "text": [
      "elegir\n",
      "0      23\n",
      "5       1\n",
      "10      3\n",
      "50      1\n",
      "75      1\n",
      "80      2\n",
      "90      4\n",
      "100     1\n",
      "dtype: int64\n"
     ]
    }
   ],
   "source": [
    "print(data.groupby('elegir').size())"
   ]
  },
  {
   "cell_type": "code",
   "execution_count": 208,
   "metadata": {},
   "outputs": [
    {
     "data": {
      "image/png": "[encoded data removed]",
      "text/plain": [
       "<Figure size 432x288 with 4 Axes>"
      ]
     },
     "metadata": {},
     "output_type": "display_data"
    }
   ],
   "source": [
    "\n",
    "data.drop(['elegir','id'], axis=1).hist()\n",
    "plt.show()"
   ]
  },
  {
   "cell_type": "code",
   "execution_count": 209,
   "metadata": {},
   "outputs": [],
   "source": [
    "\n",
    "X=data.drop(['elegir','id','skills','educations'], axis=1)\n",
    "y=data['elegir']"
   ]
  },
  {
   "cell_type": "code",
   "execution_count": 210,
   "metadata": {},
   "outputs": [
    {
     "data": {
      "text/plain": [
       "<matplotlib.axes._subplots.AxesSubplot at 0x17c6be8e898>"
      ]
     },
     "execution_count": 210,
     "metadata": {},
     "output_type": "execute_result"
    },
    {
     "data": {
      "image/png": "[encoded data removed]",
      "text/plain": [
       "<Figure size 864x864 with 2 Axes>"
      ]
     },
     "metadata": {},
     "output_type": "display_data"
    }
   ],
   "source": [
    "used_features =X.columns\n",
    "\n",
    "colormap = plt.cm.viridis\n",
    "plt.figure(figsize=(12,12))\n",
    "plt.title('Pearson Correlation of Features', y=1.05, size=15)\n",
    "sb.heatmap(data[used_features].astype(float).corr(),linewidths=0.1,vmax=1.0, square=True, cmap=colormap, linecolor='white', annot=True)"
   ]
  },
  {
   "cell_type": "code",
   "execution_count": 216,
   "metadata": {},
   "outputs": [
    {
     "data": {
      "text/plain": [
       "(28, 8)"
      ]
     },
     "execution_count": 216,
     "metadata": {},
     "output_type": "execute_result"
    }
   ],
   "source": [
    "X_train, X_test = train_test_split(data, test_size=0.2, random_state=6) \n",
    "y_train =X_train[\"elegir\"]\n",
    "y_test = X_test[\"elegir\"]\n",
    "X_train.shape"
   ]
  },
  {
   "cell_type": "code",
   "execution_count": 212,
   "metadata": {},
   "outputs": [
    {
     "name": "stdout",
     "output_type": "stream",
     "text": [
      "Precisión en el set de Entrenamiento: 0.89\n",
      "Precisión en el set de Test: 0.50\n"
     ]
    }
   ],
   "source": [
    "# Instantiate the classifier\n",
    "gnb = GaussianNB()\n",
    "# Train classifier\n",
    "gnb.fit(\n",
    "    X_train[used_features].values,\n",
    "    y_train\n",
    ")\n",
    "y_pred = gnb.predict(X_test[used_features])\n",
    "\n",
    "print('Precisión en el set de Entrenamiento: {:.2f}'\n",
    "     .format(gnb.score(X_train[used_features], y_train)))\n",
    "print('Precisión en el set de Test: {:.2f}'\n",
    "     .format(gnb.score(X_test[used_features], y_test)))"
   ]
  },
  {
   "cell_type": "code",
   "execution_count": 213,
   "metadata": {},
   "outputs": [],
   "source": [
    "pro=gnb.predict(data[used_features])"
   ]
  },
  {
   "cell_type": "code",
   "execution_count": 214,
   "metadata": {},
   "outputs": [
    {
     "name": "stdout",
     "output_type": "stream",
     "text": [
      "12929 100\n",
      "93593 0\n",
      "22082 10\n",
      "113574 0\n",
      "43632 10\n",
      "62061 100\n",
      "110793 75\n",
      "57195 0\n",
      "79164 0\n",
      "53408 80\n",
      "35039 90\n",
      "33264 0\n",
      "72797 90\n",
      "59441 0\n",
      "83215 5\n",
      "113666 0\n",
      "75084 10\n",
      "79778 10\n",
      "71805 0\n",
      "79628 0\n",
      "74678 0\n",
      "113676 90\n",
      "113672 0\n",
      "100412 0\n",
      "113584 0\n",
      "89145 0\n",
      "108352 0\n",
      "98263 90\n",
      "113598 0\n",
      "51604 90\n",
      "113596 10\n",
      "111236 0\n",
      "100982 0\n",
      "113547 0\n",
      "113066 90\n",
      "113502 0\n"
     ]
    }
   ],
   "source": [
    "for i in range(0,data.shape[0]):\n",
    "    print (data['id'][i],pro[i])"
   ]
  },
  {
   "cell_type": "code",
   "execution_count": 166,
   "metadata": {},
   "outputs": [
    {
     "name": "stdout",
     "output_type": "stream",
     "text": [
      "_________________________________________________________________\n",
      "Layer (type)                 Output Shape              Param #   \n",
      "=================================================================\n",
      "dense_12 (Dense)             (None, 64)                320       \n",
      "_________________________________________________________________\n",
      "dense_13 (Dense)             (None, 32)                2080      \n",
      "_________________________________________________________________\n",
      "dense_14 (Dense)             (None, 1)                 33        \n",
      "=================================================================\n",
      "Total params: 2,433\n",
      "Trainable params: 2,433\n",
      "Non-trainable params: 0\n",
      "_________________________________________________________________\n"
     ]
    }
   ],
   "source": []
  },
  {
   "cell_type": "code",
   "execution_count": 167,
   "metadata": {},
   "outputs": [],
   "source": []
  },
  {
   "cell_type": "code",
   "execution_count": 168,
   "metadata": {},
   "outputs": [
    {
     "name": "stdout",
     "output_type": "stream",
     "text": [
      "Train on 28 samples, validate on 8 samples\n",
      "Epoch 1/2\n",
      "28/28 [==============================] - 2s 57ms/step - loss: 1.0000 - val_loss: 1226.0000\n",
      "Epoch 2/2\n",
      "28/28 [==============================] - 0s 143us/step - loss: 1.0000 - val_loss: 1226.0000\n"
     ]
    },
    {
     "data": {
      "text/plain": [
       "<keras.callbacks.History at 0x17c6b9d9f28>"
      ]
     },
     "execution_count": 168,
     "metadata": {},
     "output_type": "execute_result"
    }
   ],
   "source": []
  },
  {
   "cell_type": "code",
   "execution_count": 169,
   "metadata": {},
   "outputs": [
    {
     "data": {
      "text/plain": [
       "array([[1.],\n",
       "       [1.],\n",
       "       [1.],\n",
       "       [1.],\n",
       "       [1.],\n",
       "       [1.],\n",
       "       [1.],\n",
       "       [1.],\n",
       "       [1.],\n",
       "       [1.],\n",
       "       [1.],\n",
       "       [1.],\n",
       "       [1.],\n",
       "       [1.],\n",
       "       [1.],\n",
       "       [1.],\n",
       "       [1.],\n",
       "       [1.],\n",
       "       [1.],\n",
       "       [1.],\n",
       "       [1.],\n",
       "       [1.],\n",
       "       [1.],\n",
       "       [1.],\n",
       "       [1.],\n",
       "       [1.],\n",
       "       [1.],\n",
       "       [1.],\n",
       "       [1.],\n",
       "       [1.],\n",
       "       [1.],\n",
       "       [1.],\n",
       "       [1.],\n",
       "       [1.],\n",
       "       [1.],\n",
       "       [1.]], dtype=float32)"
      ]
     },
     "execution_count": 169,
     "metadata": {},
     "output_type": "execute_result"
    }
   ],
   "source": []
  },
  {
   "cell_type": "code",
   "execution_count": null,
   "metadata": {},
   "outputs": [],
   "source": []
  }
 ],
 "metadata": {
  "kernelspec": {
   "display_name": "Python 3",
   "language": "python",
   "name": "python3"
  },
  "language_info": {
   "codemirror_mode": {
    "name": "ipython",
    "version": 3
   },
   "file_extension": ".py",
   "mimetype": "text/x-python",
   "name": "python",
   "nbconvert_exporter": "python",
   "pygments_lexer": "ipython3",
   "version": "3.6.5"
  }
 },
 "nbformat": 4,
 "nbformat_minor": 2
}
